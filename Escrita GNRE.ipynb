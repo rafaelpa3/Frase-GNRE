{
 "cells": [
  {
   "cell_type": "code",
   "execution_count": 50,
   "id": "c0c7eec4",
   "metadata": {},
   "outputs": [],
   "source": [
    "import pyautogui\n",
    "import time\n",
    "import pyperclip\n",
    "\n",
    "escrita = r'Dispensa de recolhimento do Difal conforme Decisão do STF RE 1287019 de 24/02/2021'\n",
    "\n",
    "def mover(qtde, direcao):\n",
    "    for i in range(qtde):\n",
    "        time.sleep(0.1)\n",
    "        pyautogui.press(direcao)\n",
    "        i += 1"
   ]
  },
  {
   "cell_type": "code",
   "execution_count": 52,
   "id": "3ed01b69",
   "metadata": {},
   "outputs": [],
   "source": [
    "i = 0\n",
    "j = 0\n",
    "notas = []\n",
    "valor = []\n",
    "notas.clear()#Limpar as notas\n",
    "valor.clear()\n",
    "#160% arquivo 28 setas para baixo\n",
    "qtde_notas = 3 #--------------------------------NUMERO DE NOTAS FISCAIS ---------------------------------------------\n",
    "pyautogui.click(854, 738)#Cliclar no pdf\n",
    "time.sleep(0.5)\n",
    "pyautogui.click(303, 38)#Clicar no preencher e assinar\n",
    "time.sleep(0.5)\n",
    "pyautogui.click(130, 76)#Clicar em adicionar texto\n",
    "pyautogui.click(374, 322)#Clicar em algum lugar aleatório para ajustar o tamanho\n",
    "time.sleep(0.5)\n",
    "pyautogui.click(374, 303)#Clicar no A- para ajustar o tamanho\n",
    "time.sleep(0.5)\n",
    "pyautogui.click(374, 303)#Clicar no A- para ajustar o tamanho\n",
    "time.sleep(0.5)\n",
    "pyautogui.press('esc')\n",
    "time.sleep(0.5)\n",
    "for j in range(qtde_notas):\n",
    "    j += 1\n",
    "    time.sleep(0.5)\n",
    "    mover(30, 'down')\n",
    "    time.sleep(0.5)\n",
    "    pyautogui.moveTo(835, 570)#mover para o valor da gnre\n",
    "    time.sleep(1)\n",
    "    pyautogui.doubleClick(835, 570)#pegar o valor da gnre\n",
    "    time.sleep(0.5)\n",
    "    pyautogui.hotkey('ctrl', 'c')\n",
    "    if pyperclip.paste() != '0,00':#checar se o é de sao paulo\n",
    "        pyautogui.click(136, 78)#Clicar em adicionar texto\n",
    "        time.sleep(0.5)\n",
    "        pyautogui.click(100, 610)#Lugar para escrever (97, 613)\n",
    "        time.sleep(0.5)\n",
    "        pyperclip.copy(escrita)\n",
    "        pyautogui.hotkey(\"ctrl\", \"v\")\n",
    "        time.sleep(0.5)\n",
    "        pyautogui.press('esc')\n",
    "        time.sleep(0.5)\n",
    "        pyautogui.press('esc')\n",
    "        time.sleep(0.5)\n",
    "        pyautogui.click(20, 283)# Clicar na aba do lado esquerdo\n",
    "        time.sleep(0.5)\n",
    "        if j < qtde_notas - 1:#checar se o número da nota é o ultimo\n",
    "            pyautogui.click(150, 322)#clicar no icone da folha pdf\n",
    "            time.sleep(0.5)\n",
    "            pyautogui.press('down')\n",
    "            time.sleep(0.5)\n",
    "            pyautogui.press('enter')\n",
    "            time.sleep(0.5)\n",
    "            pyautogui.click(20, 283)\n",
    "            time.sleep(0.3)\n",
    "            pyautogui.click(510, 364)\n",
    "        elif j == qtde_notas - 1:# ir para a última nota\n",
    "            time.sleep(0.3)\n",
    "            pyautogui.click(150, 445)#clicar no icone da folha pdf  ---- CÓDIGOS DAS ÚLTIMAS NOTAS\n",
    "            time.sleep(0.5)\n",
    "            pyautogui.press('down')\n",
    "            time.sleep(0.5)\n",
    "            pyautogui.press('enter')\n",
    "            time.sleep(0.5)\n",
    "            pyautogui.click(20, 283)\n",
    "            time.sleep(0.3)\n",
    "            pyautogui.click(510, 364)\n",
    "    else:#nota é de SP\n",
    "        if j < qtde_notas - 1:\n",
    "            pyautogui.click(20, 283)\n",
    "            time.sleep(0.5)\n",
    "            pyautogui.click(150, 322)\n",
    "            time.sleep(0.5)\n",
    "            pyautogui.press('down')\n",
    "            time.sleep(0.5)\n",
    "            pyautogui.press('enter')\n",
    "            time.sleep(0.5)\n",
    "            pyautogui.click(20, 283)\n",
    "            time.sleep(0.3)\n",
    "            pyautogui.click(510, 364)\n",
    "        elif j == qtde_notas - 1:# ir para a última nota\n",
    "            time.sleep(0.3)\n",
    "            pyautogui.click(20, 283)# Clicar na aba do lado esquerdo\n",
    "            time.sleep(0.3)\n",
    "            pyautogui.click(150, 445)#clicar no icone da folha pdf  ---- CÓDIGOS DAS ÚLTIMAS NOTAS\n",
    "            time.sleep(0.5)\n",
    "            pyautogui.press('down')\n",
    "            time.sleep(0.5)\n",
    "            pyautogui.press('enter')\n",
    "            time.sleep(0.5)\n",
    "            pyautogui.click(20, 283)\n",
    "            time.sleep(0.3)\n",
    "            pyautogui.click(510, 364)"
   ]
  },
  {
   "cell_type": "code",
   "execution_count": 23,
   "id": "7c775aaf",
   "metadata": {},
   "outputs": [
    {
     "data": {
      "text/plain": [
       "Point(x=818, y=356)"
      ]
     },
     "execution_count": 23,
     "metadata": {},
     "output_type": "execute_result"
    }
   ],
   "source": [
    "#Pegar posição\n",
    "time.sleep(3)\n",
    "pyautogui.position()"
   ]
  }
 ],
 "metadata": {
  "kernelspec": {
   "display_name": "Python 3 (ipykernel)",
   "language": "python",
   "name": "python3"
  },
  "language_info": {
   "codemirror_mode": {
    "name": "ipython",
    "version": 3
   },
   "file_extension": ".py",
   "mimetype": "text/x-python",
   "name": "python",
   "nbconvert_exporter": "python",
   "pygments_lexer": "ipython3",
   "version": "3.9.7"
  }
 },
 "nbformat": 4,
 "nbformat_minor": 5
}
